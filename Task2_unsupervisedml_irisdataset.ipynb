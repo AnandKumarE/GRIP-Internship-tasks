{
  "nbformat": 4,
  "nbformat_minor": 0,
  "metadata": {
    "colab": {
      "name": "Task2 unsupervisedml-irisdataset.ipynb",
      "provenance": [],
      "collapsed_sections": []
    },
    "kernelspec": {
      "name": "python3",
      "display_name": "Python 3"
    }
  },
  "cells": [
    {
      "cell_type": "markdown",
      "metadata": {
        "id": "4kjhiwkdXT18"
      },
      "source": [
        "![task2.png](data:image/png;base64,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)"
      ]
    },
    {
      "cell_type": "markdown",
      "metadata": {
        "id": "fl_UsYwbTC3z"
      },
      "source": [
        "**Task 2 : Prediction using Unsupervised ML**"
      ]
    },
    {
      "cell_type": "markdown",
      "metadata": {
        "id": "o4mEKsOPgU5Z"
      },
      "source": [
        "# Objective"
      ]
    },
    {
      "cell_type": "markdown",
      "metadata": {
        "id": "usTU1lEWTR3s"
      },
      "source": [
        "**Objective:**\n",
        "      \n",
        "      To predict the optimum number of clusters and represent it visually from the given Iris Dataset."
      ]
    },
    {
      "cell_type": "markdown",
      "metadata": {
        "id": "y0nFlcHVTnlt"
      },
      "source": [
        "Importing Necessary Libraries:"
      ]
    },
    {
      "cell_type": "code",
      "metadata": {
        "id": "Kj7Y_wyaS-Ur"
      },
      "source": [
        "# Importing the libraries\n",
        "import numpy as np\n",
        "import matplotlib.pyplot as plt\n",
        "import pandas as pd\n",
        "from sklearn.cluster import KMeans\n",
        "import matplotlib.pyplot as plt\n",
        "import seaborn as sns\n",
        "from sklearn.preprocessing import StandardScaler"
      ],
      "execution_count": 18,
      "outputs": []
    },
    {
      "cell_type": "markdown",
      "metadata": {
        "id": "wtDI1y5hTxdi"
      },
      "source": [
        "Importing the Data:"
      ]
    },
    {
      "cell_type": "code",
      "metadata": {
        "id": "1jnFyA8MTwTL",
        "outputId": "01060e89-c8ab-49bc-8453-ea34adf17b30",
        "colab": {
          "base_uri": "https://localhost:8080/",
          "height": 202
        }
      },
      "source": [
        "# Load the iris dataset\n",
        "iris_df= pd.read_csv('/content/Iris (1).csv')\n",
        "iris_df.head()"
      ],
      "execution_count": 4,
      "outputs": [
        {
          "output_type": "execute_result",
          "data": {
            "text/html": [
              "<div>\n",
              "<style scoped>\n",
              "    .dataframe tbody tr th:only-of-type {\n",
              "        vertical-align: middle;\n",
              "    }\n",
              "\n",
              "    .dataframe tbody tr th {\n",
              "        vertical-align: top;\n",
              "    }\n",
              "\n",
              "    .dataframe thead th {\n",
              "        text-align: right;\n",
              "    }\n",
              "</style>\n",
              "<table border=\"1\" class=\"dataframe\">\n",
              "  <thead>\n",
              "    <tr style=\"text-align: right;\">\n",
              "      <th></th>\n",
              "      <th>Id</th>\n",
              "      <th>SepalLengthCm</th>\n",
              "      <th>SepalWidthCm</th>\n",
              "      <th>PetalLengthCm</th>\n",
              "      <th>PetalWidthCm</th>\n",
              "      <th>Species</th>\n",
              "    </tr>\n",
              "  </thead>\n",
              "  <tbody>\n",
              "    <tr>\n",
              "      <th>0</th>\n",
              "      <td>1</td>\n",
              "      <td>5.1</td>\n",
              "      <td>3.5</td>\n",
              "      <td>1.4</td>\n",
              "      <td>0.2</td>\n",
              "      <td>Iris-setosa</td>\n",
              "    </tr>\n",
              "    <tr>\n",
              "      <th>1</th>\n",
              "      <td>2</td>\n",
              "      <td>4.9</td>\n",
              "      <td>3.0</td>\n",
              "      <td>1.4</td>\n",
              "      <td>0.2</td>\n",
              "      <td>Iris-setosa</td>\n",
              "    </tr>\n",
              "    <tr>\n",
              "      <th>2</th>\n",
              "      <td>3</td>\n",
              "      <td>4.7</td>\n",
              "      <td>3.2</td>\n",
              "      <td>1.3</td>\n",
              "      <td>0.2</td>\n",
              "      <td>Iris-setosa</td>\n",
              "    </tr>\n",
              "    <tr>\n",
              "      <th>3</th>\n",
              "      <td>4</td>\n",
              "      <td>4.6</td>\n",
              "      <td>3.1</td>\n",
              "      <td>1.5</td>\n",
              "      <td>0.2</td>\n",
              "      <td>Iris-setosa</td>\n",
              "    </tr>\n",
              "    <tr>\n",
              "      <th>4</th>\n",
              "      <td>5</td>\n",
              "      <td>5.0</td>\n",
              "      <td>3.6</td>\n",
              "      <td>1.4</td>\n",
              "      <td>0.2</td>\n",
              "      <td>Iris-setosa</td>\n",
              "    </tr>\n",
              "  </tbody>\n",
              "</table>\n",
              "</div>"
            ],
            "text/plain": [
              "   Id  SepalLengthCm  SepalWidthCm  PetalLengthCm  PetalWidthCm      Species\n",
              "0   1            5.1           3.5            1.4           0.2  Iris-setosa\n",
              "1   2            4.9           3.0            1.4           0.2  Iris-setosa\n",
              "2   3            4.7           3.2            1.3           0.2  Iris-setosa\n",
              "3   4            4.6           3.1            1.5           0.2  Iris-setosa\n",
              "4   5            5.0           3.6            1.4           0.2  Iris-setosa"
            ]
          },
          "metadata": {
            "tags": []
          },
          "execution_count": 4
        }
      ]
    },
    {
      "cell_type": "markdown",
      "metadata": {
        "id": "Xwc-Xk9pYkXX"
      },
      "source": [
        "Looking for missing values:"
      ]
    },
    {
      "cell_type": "code",
      "metadata": {
        "id": "lkEp_O1pUNzR",
        "outputId": "e6c197b6-1973-4248-a169-8b7ccc2b3167",
        "colab": {
          "base_uri": "https://localhost:8080/",
          "height": 139
        }
      },
      "source": [
        "iris_df.isnull().sum()"
      ],
      "execution_count": 6,
      "outputs": [
        {
          "output_type": "execute_result",
          "data": {
            "text/plain": [
              "Id               0\n",
              "SepalLengthCm    0\n",
              "SepalWidthCm     0\n",
              "PetalLengthCm    0\n",
              "PetalWidthCm     0\n",
              "Species          0\n",
              "dtype: int64"
            ]
          },
          "metadata": {
            "tags": []
          },
          "execution_count": 6
        }
      ]
    },
    {
      "cell_type": "markdown",
      "metadata": {
        "id": "0Yd1zpKPY1dL"
      },
      "source": [
        "Insights from Data:"
      ]
    },
    {
      "cell_type": "code",
      "metadata": {
        "id": "ICLw21_oYtFa",
        "outputId": "6804a126-1071-427b-9578-489adf0f7cba",
        "colab": {
          "base_uri": "https://localhost:8080/",
          "height": 294
        }
      },
      "source": [
        "# describing the data\n",
        "iris_df.describe()"
      ],
      "execution_count": 9,
      "outputs": [
        {
          "output_type": "execute_result",
          "data": {
            "text/html": [
              "<div>\n",
              "<style scoped>\n",
              "    .dataframe tbody tr th:only-of-type {\n",
              "        vertical-align: middle;\n",
              "    }\n",
              "\n",
              "    .dataframe tbody tr th {\n",
              "        vertical-align: top;\n",
              "    }\n",
              "\n",
              "    .dataframe thead th {\n",
              "        text-align: right;\n",
              "    }\n",
              "</style>\n",
              "<table border=\"1\" class=\"dataframe\">\n",
              "  <thead>\n",
              "    <tr style=\"text-align: right;\">\n",
              "      <th></th>\n",
              "      <th>Id</th>\n",
              "      <th>SepalLengthCm</th>\n",
              "      <th>SepalWidthCm</th>\n",
              "      <th>PetalLengthCm</th>\n",
              "      <th>PetalWidthCm</th>\n",
              "    </tr>\n",
              "  </thead>\n",
              "  <tbody>\n",
              "    <tr>\n",
              "      <th>count</th>\n",
              "      <td>150.000000</td>\n",
              "      <td>150.000000</td>\n",
              "      <td>150.000000</td>\n",
              "      <td>150.000000</td>\n",
              "      <td>150.000000</td>\n",
              "    </tr>\n",
              "    <tr>\n",
              "      <th>mean</th>\n",
              "      <td>75.500000</td>\n",
              "      <td>5.843333</td>\n",
              "      <td>3.054000</td>\n",
              "      <td>3.758667</td>\n",
              "      <td>1.198667</td>\n",
              "    </tr>\n",
              "    <tr>\n",
              "      <th>std</th>\n",
              "      <td>43.445368</td>\n",
              "      <td>0.828066</td>\n",
              "      <td>0.433594</td>\n",
              "      <td>1.764420</td>\n",
              "      <td>0.763161</td>\n",
              "    </tr>\n",
              "    <tr>\n",
              "      <th>min</th>\n",
              "      <td>1.000000</td>\n",
              "      <td>4.300000</td>\n",
              "      <td>2.000000</td>\n",
              "      <td>1.000000</td>\n",
              "      <td>0.100000</td>\n",
              "    </tr>\n",
              "    <tr>\n",
              "      <th>25%</th>\n",
              "      <td>38.250000</td>\n",
              "      <td>5.100000</td>\n",
              "      <td>2.800000</td>\n",
              "      <td>1.600000</td>\n",
              "      <td>0.300000</td>\n",
              "    </tr>\n",
              "    <tr>\n",
              "      <th>50%</th>\n",
              "      <td>75.500000</td>\n",
              "      <td>5.800000</td>\n",
              "      <td>3.000000</td>\n",
              "      <td>4.350000</td>\n",
              "      <td>1.300000</td>\n",
              "    </tr>\n",
              "    <tr>\n",
              "      <th>75%</th>\n",
              "      <td>112.750000</td>\n",
              "      <td>6.400000</td>\n",
              "      <td>3.300000</td>\n",
              "      <td>5.100000</td>\n",
              "      <td>1.800000</td>\n",
              "    </tr>\n",
              "    <tr>\n",
              "      <th>max</th>\n",
              "      <td>150.000000</td>\n",
              "      <td>7.900000</td>\n",
              "      <td>4.400000</td>\n",
              "      <td>6.900000</td>\n",
              "      <td>2.500000</td>\n",
              "    </tr>\n",
              "  </tbody>\n",
              "</table>\n",
              "</div>"
            ],
            "text/plain": [
              "               Id  SepalLengthCm  SepalWidthCm  PetalLengthCm  PetalWidthCm\n",
              "count  150.000000     150.000000    150.000000     150.000000    150.000000\n",
              "mean    75.500000       5.843333      3.054000       3.758667      1.198667\n",
              "std     43.445368       0.828066      0.433594       1.764420      0.763161\n",
              "min      1.000000       4.300000      2.000000       1.000000      0.100000\n",
              "25%     38.250000       5.100000      2.800000       1.600000      0.300000\n",
              "50%     75.500000       5.800000      3.000000       4.350000      1.300000\n",
              "75%    112.750000       6.400000      3.300000       5.100000      1.800000\n",
              "max    150.000000       7.900000      4.400000       6.900000      2.500000"
            ]
          },
          "metadata": {
            "tags": []
          },
          "execution_count": 9
        }
      ]
    },
    {
      "cell_type": "code",
      "metadata": {
        "id": "vRBiLUJpYv0f",
        "outputId": "08b9ffad-2fca-4f93-bdfc-7992fbb0d475",
        "colab": {
          "base_uri": "https://localhost:8080/",
          "height": 243
        }
      },
      "source": [
        "#basic info about the data\n",
        "iris_df.info()"
      ],
      "execution_count": 8,
      "outputs": [
        {
          "output_type": "stream",
          "text": [
            "<class 'pandas.core.frame.DataFrame'>\n",
            "RangeIndex: 150 entries, 0 to 149\n",
            "Data columns (total 6 columns):\n",
            " #   Column         Non-Null Count  Dtype  \n",
            "---  ------         --------------  -----  \n",
            " 0   Id             150 non-null    int64  \n",
            " 1   SepalLengthCm  150 non-null    float64\n",
            " 2   SepalWidthCm   150 non-null    float64\n",
            " 3   PetalLengthCm  150 non-null    float64\n",
            " 4   PetalWidthCm   150 non-null    float64\n",
            " 5   Species        150 non-null    object \n",
            "dtypes: float64(4), int64(1), object(1)\n",
            "memory usage: 7.2+ KB\n"
          ],
          "name": "stdout"
        }
      ]
    },
    {
      "cell_type": "code",
      "metadata": {
        "id": "gZEhnwSBYy4t"
      },
      "source": [
        "x = iris_df.iloc[:,[0,1,2,3]].values\n",
        "y= iris_df['Species']"
      ],
      "execution_count": 17,
      "outputs": []
    },
    {
      "cell_type": "markdown",
      "metadata": {
        "id": "oxCgGmXddwOh"
      },
      "source": [
        "# Finding the Optimum number of clusters for K Means clsutering using Elbow Method."
      ]
    },
    {
      "cell_type": "code",
      "metadata": {
        "id": "tIuH-8Wyd85S",
        "outputId": "676c634e-ab7f-4fb6-fdca-9e73a5a0d301",
        "colab": {
          "base_uri": "https://localhost:8080/",
          "height": 350
        }
      },
      "source": [
        "plt.figure(figsize=(8,5))\n",
        "K = range(1,11)\n",
        "Sum_of_squared_distances = []\n",
        "for k in K:\n",
        "    km = KMeans(n_clusters=k)\n",
        "    km = km.fit(x)\n",
        "    Sum_of_squared_distances.append(km.inertia_)\n",
        "plt.plot(K, Sum_of_squared_distances, 'bx-')\n",
        "plt.xlabel('No of Clusters')\n",
        "plt.ylabel('Sum_of_squared_distances')\n",
        "plt.title('Elbow Method For Optimal k')\n",
        "plt.show()"
      ],
      "execution_count": 23,
      "outputs": [
        {
          "output_type": "display_data",
          "data": {
            "image/png": "[encoded data removed]",
            "text/plain": [
              "<Figure size 576x360 with 1 Axes>"
            ]
          },
          "metadata": {
            "tags": [],
            "needs_background": "light"
          }
        }
      ]
    },
    {
      "cell_type": "markdown",
      "metadata": {
        "id": "xKoi0krqeXbI"
      },
      "source": [
        "From the above graph represented by the elbow method from point no of 3 clusters the sum of squares of distance does not decrease significantly after every iteration."
      ]
    },
    {
      "cell_type": "markdown",
      "metadata": {
        "id": "4jnSbAztfDNi"
      },
      "source": [
        "**K Means Clustering**"
      ]
    },
    {
      "cell_type": "markdown",
      "metadata": {
        "id": "FdEUuofmfcCC"
      },
      "source": [
        "Optimum cluster for our dataset= 3 "
      ]
    },
    {
      "cell_type": "code",
      "metadata": {
        "id": "BVf20h2_eO20"
      },
      "source": [
        "kmeans = KMeans(n_clusters = 3, init = 'k-means++',\n",
        "                max_iter = 300, n_init = 10, random_state = 0)\n",
        "y_kmeans = kmeans.fit_predict(x)"
      ],
      "execution_count": 24,
      "outputs": []
    },
    {
      "cell_type": "markdown",
      "metadata": {
        "id": "ZEJLWpjYi5fW"
      },
      "source": [
        "visualizing the clusters"
      ]
    },
    {
      "cell_type": "code",
      "metadata": {
        "id": "fe2tVK3Ug8RA",
        "outputId": "bbf035cb-1537-4afa-e179-afd84b64b803",
        "colab": {
          "base_uri": "https://localhost:8080/",
          "height": 283
        }
      },
      "source": [
        "# Visualising the clusters - On the first two columns\n",
        "plt.scatter(x[y_kmeans == 0, 0], x[y_kmeans == 0, 1], \n",
        "            s = 100, c = 'green', label = 'Iris-setosa')\n",
        "plt.scatter(x[y_kmeans == 1, 0], x[y_kmeans == 1, 1], \n",
        "            s = 100, c = 'blue', label = 'Iris-versicolour')\n",
        "plt.scatter(x[y_kmeans == 2, 0], x[y_kmeans == 2, 1],\n",
        "            s = 100, c = 'violet', label = 'Iris-virginica')\n",
        "\n",
        "# Plotting the centroids of the clusters\n",
        "plt.scatter(kmeans.cluster_centers_[:, 0], kmeans.cluster_centers_[:,1], \n",
        "            s = 100, c = 'black', label = 'Centroids')\n",
        "\n",
        "plt.legend()"
      ],
      "execution_count": 28,
      "outputs": [
        {
          "output_type": "execute_result",
          "data": {
            "text/plain": [
              "<matplotlib.legend.Legend at 0x7f1df34c2240>"
            ]
          },
          "metadata": {
            "tags": []
          },
          "execution_count": 28
        },
        {
          "output_type": "display_data",
          "data": {
            "image/png": "[encoded data removed]",
            "text/plain": [
              "<Figure size 432x288 with 1 Axes>"
            ]
          },
          "metadata": {
            "tags": [],
            "needs_background": "light"
          }
        }
      ]
    },
    {
      "cell_type": "code",
      "metadata": {
        "id": "Kpie3nv6hvKc",
        "outputId": "e6b190e2-f190-4dbf-a75b-90b7ac7fe709",
        "colab": {
          "base_uri": "https://localhost:8080/",
          "height": 171
        }
      },
      "source": [
        "labels= kmeans.labels_\n",
        "table= pd.crosstab(y,labels)\n",
        "table"
      ],
      "execution_count": 31,
      "outputs": [
        {
          "output_type": "execute_result",
          "data": {
            "text/html": [
              "<div>\n",
              "<style scoped>\n",
              "    .dataframe tbody tr th:only-of-type {\n",
              "        vertical-align: middle;\n",
              "    }\n",
              "\n",
              "    .dataframe tbody tr th {\n",
              "        vertical-align: top;\n",
              "    }\n",
              "\n",
              "    .dataframe thead th {\n",
              "        text-align: right;\n",
              "    }\n",
              "</style>\n",
              "<table border=\"1\" class=\"dataframe\">\n",
              "  <thead>\n",
              "    <tr style=\"text-align: right;\">\n",
              "      <th>col_0</th>\n",
              "      <th>0</th>\n",
              "      <th>1</th>\n",
              "      <th>2</th>\n",
              "    </tr>\n",
              "    <tr>\n",
              "      <th>Species</th>\n",
              "      <th></th>\n",
              "      <th></th>\n",
              "      <th></th>\n",
              "    </tr>\n",
              "  </thead>\n",
              "  <tbody>\n",
              "    <tr>\n",
              "      <th>Iris-setosa</th>\n",
              "      <td>0</td>\n",
              "      <td>50</td>\n",
              "      <td>0</td>\n",
              "    </tr>\n",
              "    <tr>\n",
              "      <th>Iris-versicolor</th>\n",
              "      <td>0</td>\n",
              "      <td>0</td>\n",
              "      <td>50</td>\n",
              "    </tr>\n",
              "    <tr>\n",
              "      <th>Iris-virginica</th>\n",
              "      <td>50</td>\n",
              "      <td>0</td>\n",
              "      <td>0</td>\n",
              "    </tr>\n",
              "  </tbody>\n",
              "</table>\n",
              "</div>"
            ],
            "text/plain": [
              "col_0             0   1   2\n",
              "Species                    \n",
              "Iris-setosa       0  50   0\n",
              "Iris-versicolor   0   0  50\n",
              "Iris-virginica   50   0   0"
            ]
          },
          "metadata": {
            "tags": []
          },
          "execution_count": 31
        }
      ]
    },
    {
      "cell_type": "markdown",
      "metadata": {
        "id": "Kq5vcUdRmofy"
      },
      "source": [
        "table for cluster of species."
      ]
    }
  ]
}